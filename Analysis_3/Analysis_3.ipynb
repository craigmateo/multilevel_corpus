{
 "cells": [
  {
   "cell_type": "markdown",
   "metadata": {},
   "source": [
    "# Analysis 3\n",
    "## Non-verbal Corpus of Mining Projects\n",
    "\n",
    "This is the third and final analyses of corpus linguistic data related to ecological themes. This corpus consists of audio and video representing different perspectives on mining and natural resource development. These included recorded interviews, documentaries, recordings of 'town hall' type meetings. The data was collected manually using a search engine. Transcripts were then obtained for each media item and saved as separate *.txt* files. "
   ]
  },
  {
   "cell_type": "markdown",
   "metadata": {},
   "source": [
    "### Read Data \n",
    "\n",
    "There were 25 *.txt* files in total each with a url associated back to the original audeo/visual media. The transcripts included timestamps (e.g. 05:45). By looping through the transcripts and getting the last timestamp, we can obtain the total runtime of the media.\n",
    "\n",
    "Running this block shows that the corpus of transcripts is about 88,000 words and the total media runtume is about 7 hours 45 minutes."
   ]
  },
  {
   "cell_type": "code",
   "execution_count": 2,
   "metadata": {},
   "outputs": [
    {
     "name": "stdout",
     "output_type": "stream",
     "text": [
      "number of files: \t25\n",
      "word count: \t\t88,140\n",
      "total runtime: \t\t7 hours 46 minutes \n",
      "average runtime: \t18 minutes\n"
     ]
    }
   ],
   "source": [
    "import glob   \n",
    "path = 'C:\\\\Users\\\\Craig\\\\Documents\\\\GitHub\\\\multilevel_corpus\\\\Analysis_3\\\\corpus\\\\'   \n",
    "\n",
    "# initialize variables\n",
    "total=0\n",
    "files=0\n",
    "times = []\n",
    "names=[]\n",
    "all = \"\"\n",
    "\n",
    "# loop through files and set variable values\n",
    "txt_files = glob.glob(path+\"*.txt\")\n",
    "for filename in txt_files:\n",
    "    files+=1\n",
    "    with open(filename, \"r\", encoding=\"utf-8\") as f:\n",
    "        name = filename.replace(path,\"\")\n",
    "        x = f.readlines()\n",
    "        xtimes=[]\n",
    "        for i in x[-3:]:\n",
    "            if \":\" in i and \": \" not in i:\n",
    "                xtimes.append(i)\n",
    "        for j in x:\n",
    "            all=all+ \" \" + j\n",
    "        times.append(xtimes[-1].strip())\n",
    "\n",
    "# convert to time     \n",
    "minutes = 0\n",
    "seconds = 0\n",
    "\n",
    "for time in times:\n",
    "    j=time.split(':')\n",
    "    minutes+=int(j[0])\n",
    "    seconds+=int(j[1])\n",
    "    \n",
    "total = (minutes+seconds/60)/60  \n",
    "average = int((total/files)*60)\n",
    "f = int(total)\n",
    "frac = (total-f) * 60\n",
    "\n",
    "# word count of transcripts\n",
    "words = all.split(' ')\n",
    "wordCount = len(words)\n",
    "numWords = \"{:,}\".format(wordCount)\n",
    "\n",
    "# print results\n",
    "print(\"number of files: \" + \"\\t\" + str(files))\n",
    "print(\"word count: \" + \"\\t\\t\" + str(numWords))\n",
    "print(\"total runtime: \" + \"\\t\\t\" + str(f) + \" hours \" + str(int(frac)) + \" minutes \")   \n",
    "print(\"average runtime: \" + \"\\t\" + str(average) + \" minutes\")\n"
   ]
  },
  {
   "cell_type": "markdown",
   "metadata": {},
   "source": [
    "### Pre-processing\n",
    "\n",
    "The code below does preprocessing on the text. The preprocessing consists of:\n",
    "\n",
    "1. **Noise removal** (removal of punctuation, special characters, digits)\n",
    "2. **Normalization** (stemming, lemmatization, removal of stopwords) \n",
    "\n",
    "An exceprt from the preprocessed corpus is then printed."
   ]
  },
  {
   "cell_type": "code",
   "execution_count": 3,
   "metadata": {},
   "outputs": [
    {
     "name": "stdout",
     "output_type": "stream",
     "text": [
      "opencast mine so we cannot make it a little bit darker better for this for the slides okay i will show you more or details of these technique and but this okay this is a quite nice picture showing you the situation here north of caucus yeah things just completely down completely not good better ok this is the conveyor bridge which is a quite unique technique developed here analyzation\n"
     ]
    }
   ],
   "source": [
    "import re\n",
    "import nltk\n",
    "\n",
    "#nltk.download('stopwords')\n",
    "\n",
    "from nltk.corpus import stopwords\n",
    "from nltk.stem.porter import PorterStemmer\n",
    "from nltk.tokenize import RegexpTokenizer\n",
    "\n",
    "#nltk.download('wordnet') \n",
    "\n",
    "from nltk.stem.wordnet import WordNetLemmatizer\n",
    "\n",
    "##Creating a list of stop words\n",
    "\n",
    "stop_words = set(stopwords.words(\"english\"))\n",
    "\n",
    "corpus_PRE = []\n",
    "corpus = []\n",
    "\n",
    "#Remove hyperlinks \n",
    "\n",
    "text = re.sub(r'http\\S+', '', all)\n",
    "\n",
    "#Remove punctuation\n",
    "text = re.sub('[^a-zA-Z]', ' ', text)\n",
    "\n",
    "#Convert to lowercase\n",
    "text = text.lower()\n",
    "\n",
    "#remove tags\n",
    "text=re.sub(\"&lt;/?.*?&gt;\",\" &lt;&gt; \",text)\n",
    "\n",
    "# remove special characters and digits\n",
    "text=re.sub(\"(\\\\d|\\\\W)+\",\" \",text)\n",
    "\n",
    "corpus_PRE.append(text)\n",
    "\n",
    "##Convert to list from string\n",
    "text = text.split()\n",
    "\n",
    "##Stemming\n",
    "ps=PorterStemmer()\n",
    "\n",
    "#Lemmatisation\n",
    "lem = WordNetLemmatizer()\n",
    "text = [lem.lemmatize(word) for word in text if not word in  \n",
    "\t\tstop_words] \n",
    "text = \" \".join(text)\n",
    "corpus.append(text)\n",
    "    \n",
    "p = corpus_PRE[0].split(' ')[2210:2280]\n",
    "print(\" \".join(p))"
   ]
  },
  {
   "cell_type": "markdown",
   "metadata": {},
   "source": [
    "### Corpus Contents\n",
    "\n",
    "To get an overview of the contents of the corpus, we output the titles and hyperlinks from a random sample."
   ]
  },
  {
   "cell_type": "code",
   "execution_count": 4,
   "metadata": {},
   "outputs": [
    {
     "name": "stdout",
     "output_type": "stream",
     "text": [
      "Random sample of media:\n",
      "\n",
      "Broadening the debate on platinum mining sector\n",
      "https://www.youtube.com/watch?v=lb9SaO3PTOU&t=60s\n",
      "\n",
      "Filmmaker Nettie Wild finds cinematic poetry in 'polarized' mining debate\n",
      "https://www.cbc.ca/radio/thecurrent/the-current-for-may-6-2016-1.3569650/filmmaker-nettie-wild-finds-cinematic-poetry-in-polarized-mining-debate-1.3569733\n",
      "\n",
      "Polymet Mining Issue -8th Congressional Debate\n",
      "https://www.youtube.com/watch?v=J1xcp_AhWdo\n",
      "\n"
     ]
    }
   ],
   "source": [
    "titles = []\n",
    "links = []\n",
    "\n",
    "for filename in txt_files:\n",
    "    with open(filename, \"r\", encoding=\"utf-8\") as f:\n",
    "        x = f.readlines()\n",
    "        titles.append(x[0])\n",
    "        links.append(x[1])\n",
    "\n",
    "        \n",
    "print(\"Random sample of media:\" + \"\\n\")\n",
    "\n",
    "import random\n",
    "ind = random.randint(0,22)\n",
    "\n",
    "for i in range(ind,ind+3):\n",
    "    print(titles[i] + links[i])"
   ]
  },
  {
   "cell_type": "markdown",
   "metadata": {},
   "source": [
    "### Keywords"
   ]
  },
  {
   "cell_type": "code",
   "execution_count": 5,
   "metadata": {},
   "outputs": [
    {
     "name": "stdout",
     "output_type": "stream",
     "text": [
      "       Word  Freq\n",
      "0      know   517\n",
      "1    people   325\n",
      "2     right   271\n",
      "3    mining   268\n",
      "4     think   252\n",
      "5       one   237\n",
      "6      like   234\n",
      "7      mine   226\n",
      "8       say   222\n",
      "9     going   220\n",
      "10     year   210\n",
      "11     well   203\n",
      "12       go   191\n",
      "13      get   190\n",
      "14  company   186\n",
      "15    thing   180\n",
      "16      see   159\n",
      "17      got   157\n",
      "18     want   156\n",
      "19   really   151\n"
     ]
    },
    {
     "data": {
      "text/plain": [
       "[Text(0, 0, 'know'),\n",
       " Text(0, 0, 'people'),\n",
       " Text(0, 0, 'right'),\n",
       " Text(0, 0, 'mining'),\n",
       " Text(0, 0, 'think'),\n",
       " Text(0, 0, 'one'),\n",
       " Text(0, 0, 'like'),\n",
       " Text(0, 0, 'mine'),\n",
       " Text(0, 0, 'say'),\n",
       " Text(0, 0, 'going'),\n",
       " Text(0, 0, 'year'),\n",
       " Text(0, 0, 'well'),\n",
       " Text(0, 0, 'go'),\n",
       " Text(0, 0, 'get'),\n",
       " Text(0, 0, 'company'),\n",
       " Text(0, 0, 'thing'),\n",
       " Text(0, 0, 'see'),\n",
       " Text(0, 0, 'got'),\n",
       " Text(0, 0, 'want'),\n",
       " Text(0, 0, 'really')]"
      ]
     },
     "execution_count": 5,
     "metadata": {},
     "output_type": "execute_result"
    }
   ],
   "source": [
    "# code adapted from https://medium.com/analytics-vidhya/automated-keyword-extraction-from-articles-using-nlp-bfd864f41b34\n",
    "\n",
    "t=corpus[0].split(' ')\n",
    "\n",
    "from sklearn.feature_extraction.text import CountVectorizer\n",
    "import re\n",
    "cv=CountVectorizer(max_df=0.8,stop_words=stop_words, max_features=10000, ngram_range=(1,3))\n",
    "X=cv.fit_transform(t)\n",
    "\n",
    "list(cv.vocabulary_.keys())[:10]\n",
    "\n",
    "import pandas\n",
    "\n",
    "#Most frequently occuring words\n",
    "\n",
    "def get_top_n_words(corpus, n=None):\n",
    "    vec = CountVectorizer().fit(corpus)\n",
    "    bag_of_words = vec.transform(corpus)\n",
    "    sum_words = bag_of_words.sum(axis=0) \n",
    "    words_freq = [(word, sum_words[0, idx]) for word, idx in      \n",
    "                   vec.vocabulary_.items()]\n",
    "    words_freq =sorted(words_freq, key = lambda x: x[1], \n",
    "                       reverse=True)\n",
    "    return words_freq[:n]\n",
    "\n",
    "#Convert most freq words to dataframe for plotting bar plot\n",
    "\n",
    "top_words = get_top_n_words(t, n=20)\n",
    "top_df = pandas.DataFrame(top_words)\n",
    "top_df.columns=[\"Word\", \"Freq\"]\n",
    "\n",
    "print(top_df)\n",
    "\n",
    "#Barplot of most freq words\n",
    "\n",
    "import seaborn as sns\n",
    "sns.set(rc={'figure.figsize':(13,8)})\n",
    "g = sns.barplot(x=\"Word\", y=\"Freq\", data=top_df,  palette=\"Blues_d\")\n",
    "g.set_xticklabels(g.get_xticklabels(), rotation=30)"
   ]
  },
  {
   "cell_type": "code",
   "execution_count": 6,
   "metadata": {},
   "outputs": [
    {
     "name": "stdout",
     "output_type": "stream",
     "text": [
      "count:144\n",
      "\n",
      "Random sample:\n",
      "he bottom of the sea you will lose ecosystem values the question is how to mi\n",
      "sonnel you have to have the track record and i m telling you that cliffs reso\n",
      "to reality uranium has been a huge economic boom to this whole area these sma\n",
      "s six agonizing months to get the records we discovered there was texting thr\n",
      "mportant to understand that phone records don t provide a means to detect any\n",
      "projects and now so coming to the second part giving you an introduction to w\n",
      "much so that saving messianic has become a cause celeb on the world conservat\n",
      "sedimentation with sand so we can reconstruct the landscape that we know that\n",
      "the development of the rest of the economy that s the pattern you know you kn\n",
      "not going to show up on the phone records i think one of the problems in the \n"
     ]
    }
   ],
   "source": [
    "concord = []\n",
    "text_list = corpus_PRE[0].split(' ')\n",
    "#print(text_list)\n",
    "\n",
    "def getLines(target):\n",
    "\n",
    "    for i in range(0,len(text_list)):\n",
    "        if target in text_list[i]:\n",
    "            snippet = \" \".join(text_list[i-15:i+15])\n",
    "            if target in snippet:\n",
    "                loc = snippet.index(target)\n",
    "                line = snippet[loc-35:loc+42]\n",
    "                if line not in concord:\n",
    "                    concord.append(line)\n",
    "\n",
    "getLines(\"eco\")\n",
    "                    \n",
    "print(\"count:\" +str(len(concord))+ \"\\n\")\n",
    "print('Random sample:' ) \n",
    "\n",
    "if len(concord)>10:\n",
    "    from random import sample\n",
    "    chosen = sample(concord, 10)\n",
    "    for i in chosen:\n",
    "        print(i)\n",
    "else:\n",
    "    for i in concord:\n",
    "        print(i)"
   ]
  },
  {
   "cell_type": "markdown",
   "metadata": {},
   "source": [
    "### Ecological Level"
   ]
  },
  {
   "cell_type": "code",
   "execution_count": 7,
   "metadata": {},
   "outputs": [
    {
     "name": "stdout",
     "output_type": "stream",
     "text": [
      "https://www.youtube.com/embed/-UPjsuuyvD4?start=632&end=653\n"
     ]
    },
    {
     "data": {
      "text/html": [
       "<iframe width=\"400\" height=\"315\" src=\"https://www.youtube.com/embed/-UPjsuuyvD4?start=632&end=653;rel=0&amp;controls=0&amp;showinfo=0\" frameborder=\"0\" allowfullscreen></iframe>"
      ],
      "text/plain": [
       "<IPython.core.display.HTML object>"
      ]
     },
     "execution_count": 7,
     "metadata": {},
     "output_type": "execute_result"
    }
   ],
   "source": [
    "import cv2, pafy\n",
    "from IPython.display import HTML\n",
    "\n",
    "# Youtube\n",
    "import warnings; warnings.simplefilter('ignore')\n",
    "print(\"https://www.youtube.com/embed/-UPjsuuyvD4?start=632&end=653\")\n",
    "HTML('<iframe width=\"400\" height=\"315\" src=\"https://www.youtube.com/embed/-UPjsuuyvD4?start=632&end=653;rel=0&amp;controls=0&amp;showinfo=0\" frameborder=\"0\" allowfullscreen></iframe>')\n"
   ]
  },
  {
   "cell_type": "code",
   "execution_count": 8,
   "metadata": {},
   "outputs": [
    {
     "name": "stdout",
     "output_type": "stream",
     "text": [
      "Number of frames: 0\n"
     ]
    }
   ],
   "source": [
    "import os \n",
    "\n",
    "ims1 = []\n",
    "\n",
    "# Function to extract frames \n",
    "def FrameCapture(path,folder,ims):\n",
    "    \n",
    "    pathnew=path[0:-6]\n",
    "    \n",
    "    os.mkdir(pathnew+folder)    \n",
    "        \n",
    "    # Path to video file \n",
    "    vidObj = cv2.VideoCapture(path) \n",
    "  \n",
    "    # Used as counter variable \n",
    "    count = 0\n",
    "  \n",
    "    # checks whether frames were extracted \n",
    "    success = 1\n",
    "  \n",
    "    while success: \n",
    "  \n",
    "        # vidObj object calls read \n",
    "        # function extract frames \n",
    "        success, image = vidObj.read() \n",
    "  \n",
    "        # Saves the frames with frame-count \n",
    "        \n",
    "        cv2.imwrite(pathnew+folder+\"\\\\frame%d.png\" % count, image) \n",
    "        k=(pathnew+folder+\"\\\\frame%d.png\" % count)\n",
    "        ims.append(k)\n",
    "  \n",
    "        count += 1\n",
    "  \n",
    "#FrameCapture('C:\\\\Users\\\\Craig\\\\Documents\\\\videoclips\\\\ecological\\\\05.mp4', \"e1\",ims1) \n",
    "print(\"Number of frames: \" + str(len(ims1)))"
   ]
  },
  {
   "cell_type": "code",
   "execution_count": 9,
   "metadata": {},
   "outputs": [
    {
     "data": {
      "text/plain": [
       "<Figure size 2880x360 with 0 Axes>"
      ]
     },
     "metadata": {},
     "output_type": "display_data"
    },
    {
     "data": {
      "text/plain": [
       "<Figure size 2880x360 with 0 Axes>"
      ]
     },
     "metadata": {},
     "output_type": "display_data"
    },
    {
     "data": {
      "text/plain": [
       "<Figure size 2880x360 with 0 Axes>"
      ]
     },
     "metadata": {},
     "output_type": "display_data"
    }
   ],
   "source": [
    "from matplotlib.pyplot import figure, imshow, axis\n",
    "from matplotlib.image import imread\n",
    "\n",
    "def showImagesHorizontally(list_of_files):\n",
    "    fig = figure(figsize = (40,5))\n",
    "    number_of_files = len(list_of_files)\n",
    "    for i in range(number_of_files):\n",
    "        a=fig.add_subplot(1,number_of_files,i+1)\n",
    "        image = imread(list_of_files[i])\n",
    "        imshow(image,cmap='Greys_r')\n",
    "        axis('off')\n",
    "\n",
    "for i in range(0,12,4):\n",
    "    showImagesHorizontally(ims1[i:i+4])"
   ]
  },
  {
   "cell_type": "code",
   "execution_count": 10,
   "metadata": {},
   "outputs": [
    {
     "name": "stdout",
     "output_type": "stream",
     "text": [
      "https://www.youtube.com/embed/-UPjsuuyvD4?start=632&end=653\n"
     ]
    },
    {
     "data": {
      "text/html": [
       "<iframe width=\"400\" height=\"315\" src=\"https://www.youtube.com/embed/Sh0_Wf8F4RM?start=857&end=888;rel=0&amp;controls=0&amp;showinfo=0\" frameborder=\"0\" allowfullscreen></iframe>"
      ],
      "text/plain": [
       "<IPython.core.display.HTML object>"
      ]
     },
     "execution_count": 10,
     "metadata": {},
     "output_type": "execute_result"
    }
   ],
   "source": [
    "# Youtube\n",
    "warnings.simplefilter('ignore')\n",
    "print(\"https://www.youtube.com/embed/Sh0_Wf8F4RM?start=857&end=888\")\n",
    "HTML('<iframe width=\"400\" height=\"315\" src=\"https://www.youtube.com/embed/Sh0_Wf8F4RM?start=857&end=888;rel=0&amp;controls=0&amp;showinfo=0\" frameborder=\"0\" allowfullscreen></iframe>')\n"
   ]
  },
  {
   "cell_type": "code",
   "execution_count": 11,
   "metadata": {},
   "outputs": [
    {
     "name": "stdout",
     "output_type": "stream",
     "text": [
      "Number of frames: 0\n"
     ]
    }
   ],
   "source": [
    "ims2 = []\n",
    "\n",
    "#FrameCapture('C:\\\\Users\\\\Craig\\\\Documents\\\\videoclips\\\\ecological\\\\10.mp4', \"e2\",ims2) \n",
    "print(\"Number of frames: \" + str(len(ims2)))"
   ]
  },
  {
   "cell_type": "code",
   "execution_count": 12,
   "metadata": {},
   "outputs": [
    {
     "data": {
      "text/plain": [
       "<Figure size 2880x360 with 0 Axes>"
      ]
     },
     "metadata": {},
     "output_type": "display_data"
    },
    {
     "data": {
      "text/plain": [
       "<Figure size 2880x360 with 0 Axes>"
      ]
     },
     "metadata": {},
     "output_type": "display_data"
    },
    {
     "data": {
      "text/plain": [
       "<Figure size 2880x360 with 0 Axes>"
      ]
     },
     "metadata": {},
     "output_type": "display_data"
    }
   ],
   "source": [
    "for i in range(552,564,4):\n",
    "    showImagesHorizontally(ims2[i:i+4])"
   ]
  },
  {
   "cell_type": "code",
   "execution_count": 13,
   "metadata": {},
   "outputs": [
    {
     "name": "stdout",
     "output_type": "stream",
     "text": [
      "https://www.youtube.com/embed/UvKe2LYy5pk?start=920&end=945\n"
     ]
    },
    {
     "data": {
      "text/html": [
       "<iframe width=\"400\" height=\"315\" src=\"https://www.youtube.com/embed/UvKe2LYy5pk?start=920&end=945;rel=0&amp;controls=0&amp;showinfo=0\" frameborder=\"0\" allowfullscreen></iframe>"
      ],
      "text/plain": [
       "<IPython.core.display.HTML object>"
      ]
     },
     "execution_count": 13,
     "metadata": {},
     "output_type": "execute_result"
    }
   ],
   "source": [
    "# Youtube\n",
    "warnings.simplefilter('ignore')\n",
    "print(\"https://www.youtube.com/embed/UvKe2LYy5pk?start=920&end=945\")\n",
    "HTML('<iframe width=\"400\" height=\"315\" src=\"https://www.youtube.com/embed/UvKe2LYy5pk?start=920&end=945;rel=0&amp;controls=0&amp;showinfo=0\" frameborder=\"0\" allowfullscreen></iframe>')\n"
   ]
  },
  {
   "cell_type": "code",
   "execution_count": 14,
   "metadata": {},
   "outputs": [
    {
     "name": "stdout",
     "output_type": "stream",
     "text": [
      "Number of frames: 0\n"
     ]
    }
   ],
   "source": [
    "ims3 = []\n",
    "\n",
    "#FrameCapture('C:\\\\Users\\\\Craig\\\\Documents\\\\videoclips\\\\ecological\\\\12.mp4', \"e3\",ims3) \n",
    "print(\"Number of frames: \" + str(len(ims3)))"
   ]
  },
  {
   "cell_type": "code",
   "execution_count": 15,
   "metadata": {},
   "outputs": [
    {
     "data": {
      "text/plain": [
       "<Figure size 2880x360 with 0 Axes>"
      ]
     },
     "metadata": {},
     "output_type": "display_data"
    },
    {
     "data": {
      "text/plain": [
       "<Figure size 2880x360 with 0 Axes>"
      ]
     },
     "metadata": {},
     "output_type": "display_data"
    },
    {
     "data": {
      "text/plain": [
       "<Figure size 2880x360 with 0 Axes>"
      ]
     },
     "metadata": {},
     "output_type": "display_data"
    }
   ],
   "source": [
    "for i in range(258,270,4):\n",
    "    showImagesHorizontally(ims3[i:i+4])"
   ]
  },
  {
   "cell_type": "code",
   "execution_count": 16,
   "metadata": {},
   "outputs": [
    {
     "name": "stdout",
     "output_type": "stream",
     "text": [
      "https://www.youtube.com/embed/vBhvFWRLiOs?start=460&end=1470\n"
     ]
    },
    {
     "data": {
      "text/html": [
       "<iframe width=\"400\" height=\"315\" src=\"https://www.youtube.com/embed/vBhvFWRLiOs?start=821&end=829;rel=0&amp;controls=0&amp;showinfo=0\" frameborder=\"0\" allowfullscreen></iframe>"
      ],
      "text/plain": [
       "<IPython.core.display.HTML object>"
      ]
     },
     "execution_count": 16,
     "metadata": {},
     "output_type": "execute_result"
    }
   ],
   "source": [
    "# Youtube\n",
    "warnings.simplefilter('ignore')\n",
    "print(\"https://www.youtube.com/embed/vBhvFWRLiOs?start=821&end=829\")\n",
    "HTML('<iframe width=\"400\" height=\"315\" src=\"https://www.youtube.com/embed/vBhvFWRLiOs?start=821&end=829;rel=0&amp;controls=0&amp;showinfo=0\" frameborder=\"0\" allowfullscreen></iframe>')\n"
   ]
  },
  {
   "cell_type": "code",
   "execution_count": 18,
   "metadata": {},
   "outputs": [
    {
     "name": "stdout",
     "output_type": "stream",
     "text": [
      "Number of frames: 0\n"
     ]
    }
   ],
   "source": [
    "ims3a = []\n",
    "\n",
    "#FrameCapture('C:\\\\Users\\\\Craig\\\\Documents\\\\videoclips\\\\ecological\\\\18.mp4', \"e4\",ims3a) \n",
    "print(\"Number of frames: \" + str(len(ims3a)))"
   ]
  },
  {
   "cell_type": "markdown",
   "metadata": {},
   "source": [
    "### Cultural Level"
   ]
  },
  {
   "cell_type": "code",
   "execution_count": 21,
   "metadata": {},
   "outputs": [
    {
     "data": {
      "text/html": [
       "<iframe width=\"400\" height=\"315\" src=\"https://www.youtube.com/embed/z6ewpjWYfYo?start=535&end=555;rel=0&amp;controls=0&amp;showinfo=0\" frameborder=\"0\" allowfullscreen></iframe>"
      ],
      "text/plain": [
       "<IPython.core.display.HTML object>"
      ]
     },
     "execution_count": 21,
     "metadata": {},
     "output_type": "execute_result"
    }
   ],
   "source": [
    "\n",
    "import warnings; warnings.simplefilter('ignore')\n",
    "# Youtube\n",
    "print(\"https://www.youtube.com/embed/z6ewpjWYfYo?start=535&end=555\")\n",
    "HTML('<iframe width=\"400\" height=\"315\" src=\"https://www.youtube.com/embed/z6ewpjWYfYo?start=535&end=555;rel=0&amp;controls=0&amp;showinfo=0\" frameborder=\"0\" allowfullscreen></iframe>')"
   ]
  },
  {
   "cell_type": "code",
   "execution_count": 22,
   "metadata": {},
   "outputs": [
    {
     "name": "stdout",
     "output_type": "stream",
     "text": [
      "Number of frames: 0\n"
     ]
    }
   ],
   "source": [
    "ims4 = []\n",
    "\n",
    "#FrameCapture('C:\\\\Users\\\\Craig\\\\Documents\\\\videoclips\\\\cultural\\\\02.mp4', \"e1\",ims4) \n",
    "print(\"Number of frames: \" + str(len(ims4)))"
   ]
  },
  {
   "cell_type": "code",
   "execution_count": 23,
   "metadata": {},
   "outputs": [
    {
     "data": {
      "text/plain": [
       "<Figure size 2880x360 with 0 Axes>"
      ]
     },
     "metadata": {},
     "output_type": "display_data"
    },
    {
     "data": {
      "text/plain": [
       "<Figure size 2880x360 with 0 Axes>"
      ]
     },
     "metadata": {},
     "output_type": "display_data"
    },
    {
     "data": {
      "text/plain": [
       "<Figure size 2880x360 with 0 Axes>"
      ]
     },
     "metadata": {},
     "output_type": "display_data"
    }
   ],
   "source": [
    "for i in range(504,516,4):\n",
    "    showImagesHorizontally(ims4[i:i+4])"
   ]
  },
  {
   "cell_type": "code",
   "execution_count": 26,
   "metadata": {},
   "outputs": [
    {
     "name": "stdout",
     "output_type": "stream",
     "text": [
      "https://www.youtube.com/embed/10FrfEa0Xck?start=33&end=45\n"
     ]
    },
    {
     "data": {
      "text/html": [
       "<iframe width=\"400\" height=\"315\" src=\"https://www.youtube.com/embed/10FrfEa0Xck?start=33&end=45;rel=0&amp;controls=0&amp;showinfo=0\" frameborder=\"0\" allowfullscreen></iframe>"
      ],
      "text/plain": [
       "<IPython.core.display.HTML object>"
      ]
     },
     "execution_count": 26,
     "metadata": {},
     "output_type": "execute_result"
    }
   ],
   "source": [
    "warnings.simplefilter('ignore')\n",
    "# Youtube\n",
    "print(\"https://www.youtube.com/embed/10FrfEa0Xck?start=33&end=45\")\n",
    "HTML('<iframe width=\"400\" height=\"315\" src=\"https://www.youtube.com/embed/10FrfEa0Xck?start=33&end=45;rel=0&amp;controls=0&amp;showinfo=0\" frameborder=\"0\" allowfullscreen></iframe>')"
   ]
  },
  {
   "cell_type": "code",
   "execution_count": 27,
   "metadata": {},
   "outputs": [
    {
     "name": "stdout",
     "output_type": "stream",
     "text": [
      "Number of frames: 0\n"
     ]
    }
   ],
   "source": [
    "ims5 = []\n",
    "#FrameCapture('C:\\\\Users\\\\Craig\\\\Documents\\\\videoclips\\\\cultural\\\\03.mp4', \"e2\",ims5) \n",
    "print(\"Number of frames: \" + str(len(ims5)))"
   ]
  },
  {
   "cell_type": "code",
   "execution_count": 28,
   "metadata": {},
   "outputs": [
    {
     "data": {
      "text/plain": [
       "<Figure size 2880x360 with 0 Axes>"
      ]
     },
     "metadata": {},
     "output_type": "display_data"
    },
    {
     "data": {
      "text/plain": [
       "<Figure size 2880x360 with 0 Axes>"
      ]
     },
     "metadata": {},
     "output_type": "display_data"
    },
    {
     "data": {
      "text/plain": [
       "<Figure size 2880x360 with 0 Axes>"
      ]
     },
     "metadata": {},
     "output_type": "display_data"
    }
   ],
   "source": [
    "for i in range(54,66,4):\n",
    "    showImagesHorizontally(ims5[i:i+4])"
   ]
  },
  {
   "cell_type": "code",
   "execution_count": 32,
   "metadata": {},
   "outputs": [
    {
     "name": "stdout",
     "output_type": "stream",
     "text": [
      "https://www.youtube.com/embed/awnLI4pRnUM?start=42&end=52\n"
     ]
    },
    {
     "data": {
      "text/html": [
       "<iframe width=\"400\" height=\"315\" src=\"https://www.youtube.com/embed/awnLI4pRnUM?start=43&end=58;rel=0&amp;controls=0&amp;showinfo=0\" frameborder=\"0\" allowfullscreen></iframe>"
      ],
      "text/plain": [
       "<IPython.core.display.HTML object>"
      ]
     },
     "execution_count": 32,
     "metadata": {},
     "output_type": "execute_result"
    }
   ],
   "source": [
    "warnings.simplefilter('ignore')\n",
    "# Youtube\n",
    "print(\"https://www.youtube.com/embed/awnLI4pRnUM?start=42&end=52\")\n",
    "HTML('<iframe width=\"400\" height=\"315\" src=\"https://www.youtube.com/embed/awnLI4pRnUM?start=43&end=58;rel=0&amp;controls=0&amp;showinfo=0\" frameborder=\"0\" allowfullscreen></iframe>')"
   ]
  },
  {
   "cell_type": "code",
   "execution_count": 33,
   "metadata": {},
   "outputs": [
    {
     "name": "stdout",
     "output_type": "stream",
     "text": [
      "Number of frames: 0\n"
     ]
    }
   ],
   "source": [
    "ims6 = []\n",
    "#FrameCapture('C:\\\\Users\\\\Craig\\\\Documents\\\\videoclips\\\\cultural\\\\04.mp4', \"e3\",ims6) \n",
    "print(\"Number of frames: \" + str(len(ims6)))"
   ]
  },
  {
   "cell_type": "code",
   "execution_count": 34,
   "metadata": {},
   "outputs": [
    {
     "data": {
      "text/plain": [
       "<Figure size 2880x360 with 0 Axes>"
      ]
     },
     "metadata": {},
     "output_type": "display_data"
    },
    {
     "data": {
      "text/plain": [
       "<Figure size 2880x360 with 0 Axes>"
      ]
     },
     "metadata": {},
     "output_type": "display_data"
    },
    {
     "data": {
      "text/plain": [
       "<Figure size 2880x360 with 0 Axes>"
      ]
     },
     "metadata": {},
     "output_type": "display_data"
    }
   ],
   "source": [
    "for i in range(18,30,4):\n",
    "    showImagesHorizontally(ims6[i:i+4])"
   ]
  },
  {
   "cell_type": "code",
   "execution_count": 39,
   "metadata": {},
   "outputs": [
    {
     "name": "stdout",
     "output_type": "stream",
     "text": [
      "https://www.youtube.com/embed/UvKe2LYy5pk?start=1158&end=1208\n"
     ]
    },
    {
     "data": {
      "text/html": [
       "<iframe width=\"400\" height=\"315\" src=\"https://www.youtube.com/embed/UvKe2LYy5pk?start=1198&end=1220;rel=0&amp;controls=0&amp;showinfo=0\" frameborder=\"0\" allowfullscreen></iframe>"
      ],
      "text/plain": [
       "<IPython.core.display.HTML object>"
      ]
     },
     "execution_count": 39,
     "metadata": {},
     "output_type": "execute_result"
    }
   ],
   "source": [
    "warnings.simplefilter('ignore')\n",
    "# Youtube\n",
    "print(\"https://www.youtube.com/embed/UvKe2LYy5pk?start=1198&end=1220\")\n",
    "HTML('<iframe width=\"400\" height=\"315\" src=\"https://www.youtube.com/embed/UvKe2LYy5pk?start=1198&end=1220;rel=0&amp;controls=0&amp;showinfo=0\" frameborder=\"0\" allowfullscreen></iframe>')"
   ]
  },
  {
   "cell_type": "code",
   "execution_count": 40,
   "metadata": {},
   "outputs": [
    {
     "name": "stdout",
     "output_type": "stream",
     "text": [
      "Number of frames: 0\n"
     ]
    }
   ],
   "source": [
    "ims7 = []\n",
    "#FrameCapture('C:\\\\Users\\\\Craig\\\\Documents\\\\videoclips\\\\cultural\\\\14.mp4', \"e4\",ims7) \n",
    "print(\"Number of frames: \" + str(len(ims7)))"
   ]
  },
  {
   "cell_type": "code",
   "execution_count": 41,
   "metadata": {},
   "outputs": [
    {
     "data": {
      "text/plain": [
       "<Figure size 2880x360 with 0 Axes>"
      ]
     },
     "metadata": {},
     "output_type": "display_data"
    },
    {
     "data": {
      "text/plain": [
       "<Figure size 2880x360 with 0 Axes>"
      ]
     },
     "metadata": {},
     "output_type": "display_data"
    },
    {
     "data": {
      "text/plain": [
       "<Figure size 2880x360 with 0 Axes>"
      ]
     },
     "metadata": {},
     "output_type": "display_data"
    }
   ],
   "source": [
    "for i in range(422,434,4):\n",
    "    showImagesHorizontally(ims7[i:i+4])"
   ]
  },
  {
   "cell_type": "code",
   "execution_count": 45,
   "metadata": {},
   "outputs": [
    {
     "name": "stdout",
     "output_type": "stream",
     "text": [
      "https://www.youtube.com/embed/vBhvFWRLiOs?start=467&end=476\n"
     ]
    },
    {
     "data": {
      "text/html": [
       "<iframe width=\"400\" height=\"315\" src=\"https://www.youtube.com/embed/vBhvFWRLiOs?start=467&end=476;rel=0&amp;controls=0&amp;showinfo=0\" frameborder=\"0\" allowfullscreen></iframe>"
      ],
      "text/plain": [
       "<IPython.core.display.HTML object>"
      ]
     },
     "execution_count": 45,
     "metadata": {},
     "output_type": "execute_result"
    }
   ],
   "source": [
    "warnings.simplefilter('ignore')\n",
    "# Youtube\n",
    "print(\"https://www.youtube.com/embed/vBhvFWRLiOs?start=467&end=476\")\n",
    "HTML('<iframe width=\"400\" height=\"315\" src=\"https://www.youtube.com/embed/vBhvFWRLiOs?start=467&end=476;rel=0&amp;controls=0&amp;showinfo=0\" frameborder=\"0\" allowfullscreen></iframe>')"
   ]
  },
  {
   "cell_type": "code",
   "execution_count": 46,
   "metadata": {},
   "outputs": [
    {
     "name": "stdout",
     "output_type": "stream",
     "text": [
      "Number of frames: 0\n"
     ]
    }
   ],
   "source": [
    "ims8 = []\n",
    "#FrameCapture('C:\\\\Users\\\\Craig\\\\Documents\\\\videoclips\\\\cultural\\\\17.mp4', \"e5\",ims8) \n",
    "print(\"Number of frames: \" + str(len(ims8)))"
   ]
  },
  {
   "cell_type": "code",
   "execution_count": 47,
   "metadata": {},
   "outputs": [
    {
     "data": {
      "text/plain": [
       "<Figure size 2880x360 with 0 Axes>"
      ]
     },
     "metadata": {},
     "output_type": "display_data"
    },
    {
     "data": {
      "text/plain": [
       "<Figure size 2880x360 with 0 Axes>"
      ]
     },
     "metadata": {},
     "output_type": "display_data"
    },
    {
     "data": {
      "text/plain": [
       "<Figure size 2880x360 with 0 Axes>"
      ]
     },
     "metadata": {},
     "output_type": "display_data"
    }
   ],
   "source": [
    "for i in range(98,110,4):\n",
    "    showImagesHorizontally(ims8[i:i+4])"
   ]
  },
  {
   "cell_type": "markdown",
   "metadata": {},
   "source": [
    "### Socio-Economic Level"
   ]
  },
  {
   "cell_type": "code",
   "execution_count": 48,
   "metadata": {},
   "outputs": [
    {
     "name": "stdout",
     "output_type": "stream",
     "text": [
      "https://www.youtube.com/embed/gU7PBoy-wFE?start=10&end=21\n"
     ]
    },
    {
     "data": {
      "text/html": [
       "<iframe width=\"400\" height=\"315\" src=\"https://www.youtube.com/embed/gU7PBoy-wFE?start=10&end=21;rel=0&amp;controls=0&amp;showinfo=0\" frameborder=\"0\" allowfullscreen></iframe>"
      ],
      "text/plain": [
       "<IPython.core.display.HTML object>"
      ]
     },
     "execution_count": 48,
     "metadata": {},
     "output_type": "execute_result"
    }
   ],
   "source": [
    "warnings.simplefilter('ignore')\n",
    "# Youtube\n",
    "print(\"https://www.youtube.com/embed/gU7PBoy-wFE?start=10&end=21\")\n",
    "HTML('<iframe width=\"400\" height=\"315\" src=\"https://www.youtube.com/embed/gU7PBoy-wFE?start=10&end=21;rel=0&amp;controls=0&amp;showinfo=0\" frameborder=\"0\" allowfullscreen></iframe>')"
   ]
  },
  {
   "cell_type": "code",
   "execution_count": 49,
   "metadata": {},
   "outputs": [
    {
     "name": "stdout",
     "output_type": "stream",
     "text": [
      "Number of frames: 0\n"
     ]
    }
   ],
   "source": [
    "ims9 = []\n",
    "#FrameCapture('C:\\\\Users\\\\Craig\\\\Documents\\\\videoclips\\\\economic\\\\06.mp4', \"e1\",ims9) \n",
    "print(\"Number of frames: \" + str(len(ims9)))"
   ]
  },
  {
   "cell_type": "code",
   "execution_count": 50,
   "metadata": {},
   "outputs": [
    {
     "data": {
      "text/plain": [
       "<Figure size 2880x360 with 0 Axes>"
      ]
     },
     "metadata": {},
     "output_type": "display_data"
    },
    {
     "data": {
      "text/plain": [
       "<Figure size 2880x360 with 0 Axes>"
      ]
     },
     "metadata": {},
     "output_type": "display_data"
    },
    {
     "data": {
      "text/plain": [
       "<Figure size 2880x360 with 0 Axes>"
      ]
     },
     "metadata": {},
     "output_type": "display_data"
    }
   ],
   "source": [
    "for i in range(292,304,4):\n",
    "    showImagesHorizontally(ims9[i:i+4])"
   ]
  },
  {
   "cell_type": "code",
   "execution_count": 54,
   "metadata": {},
   "outputs": [
    {
     "name": "stdout",
     "output_type": "stream",
     "text": [
      "https://www.youtube.com/embed/Sh0_Wf8F4RM?start=390&end=420\n"
     ]
    },
    {
     "data": {
      "text/html": [
       "<iframe width=\"400\" height=\"315\" src=\"https://www.youtube.com/embed/Sh0_Wf8F4RM?start=390&end=420;rel=0&amp;controls=0&amp;showinfo=0\" frameborder=\"0\" allowfullscreen></iframe>"
      ],
      "text/plain": [
       "<IPython.core.display.HTML object>"
      ]
     },
     "execution_count": 54,
     "metadata": {},
     "output_type": "execute_result"
    }
   ],
   "source": [
    "warnings.simplefilter('ignore')\n",
    "# Youtube\n",
    "print(\"https://www.youtube.com/embed/Sh0_Wf8F4RM?start=390&end=420\")\n",
    "HTML('<iframe width=\"400\" height=\"315\" src=\"https://www.youtube.com/embed/Sh0_Wf8F4RM?start=390&end=420;rel=0&amp;controls=0&amp;showinfo=0\" frameborder=\"0\" allowfullscreen></iframe>')"
   ]
  },
  {
   "cell_type": "code",
   "execution_count": 55,
   "metadata": {},
   "outputs": [
    {
     "name": "stdout",
     "output_type": "stream",
     "text": [
      "Number of frames: 0\n"
     ]
    }
   ],
   "source": [
    "ims10 = []\n",
    "#FrameCapture('C:\\\\Users\\\\Craig\\\\Documents\\\\videoclips\\\\economic\\\\11.mp4', \"e2\",ims10) \n",
    "print(\"Number of frames: \" + str(len(ims10)))"
   ]
  },
  {
   "cell_type": "code",
   "execution_count": 56,
   "metadata": {},
   "outputs": [
    {
     "data": {
      "text/plain": [
       "<Figure size 2880x360 with 0 Axes>"
      ]
     },
     "metadata": {},
     "output_type": "display_data"
    },
    {
     "data": {
      "text/plain": [
       "<Figure size 2880x360 with 0 Axes>"
      ]
     },
     "metadata": {},
     "output_type": "display_data"
    },
    {
     "data": {
      "text/plain": [
       "<Figure size 2880x360 with 0 Axes>"
      ]
     },
     "metadata": {},
     "output_type": "display_data"
    }
   ],
   "source": [
    "for i in range(352,364,4):\n",
    "    showImagesHorizontally(ims10[i:i+4])"
   ]
  },
  {
   "cell_type": "code",
   "execution_count": 57,
   "metadata": {},
   "outputs": [
    {
     "name": "stdout",
     "output_type": "stream",
     "text": [
      "https://www.youtube.com/embed/vBhvFWRLiOs?start=1299&end=1316\n"
     ]
    },
    {
     "data": {
      "text/html": [
       "<iframe width=\"400\" height=\"315\" src=\"https://www.youtube.com/embed/vBhvFWRLiOs?start=1299&end=1316;rel=0&amp;controls=0&amp;showinfo=0\" frameborder=\"0\" allowfullscreen></iframe>"
      ],
      "text/plain": [
       "<IPython.core.display.HTML object>"
      ]
     },
     "execution_count": 57,
     "metadata": {},
     "output_type": "execute_result"
    }
   ],
   "source": [
    "warnings.simplefilter('ignore')\n",
    "# Youtube\n",
    "print(\"https://www.youtube.com/embed/vBhvFWRLiOs?start=1299&end=1316\")\n",
    "HTML('<iframe width=\"400\" height=\"315\" src=\"https://www.youtube.com/embed/vBhvFWRLiOs?start=1299&end=1316;rel=0&amp;controls=0&amp;showinfo=0\" frameborder=\"0\" allowfullscreen></iframe>')"
   ]
  },
  {
   "cell_type": "code",
   "execution_count": 58,
   "metadata": {},
   "outputs": [
    {
     "name": "stdout",
     "output_type": "stream",
     "text": [
      "Number of frames: 0\n"
     ]
    }
   ],
   "source": [
    "ims11 = []\n",
    "#FrameCapture('C:\\\\Users\\\\Craig\\\\Documents\\\\videoclips\\\\economic\\\\19.mp4', \"e3\",ims11) \n",
    "print(\"Number of frames: \" + str(len(ims11)))"
   ]
  },
  {
   "cell_type": "code",
   "execution_count": 62,
   "metadata": {},
   "outputs": [
    {
     "name": "stdout",
     "output_type": "stream",
     "text": [
      "https://www.youtube.com/embed/vBhvFWRLiOs?start=58&end=75\n"
     ]
    },
    {
     "data": {
      "text/html": [
       "<iframe width=\"400\" height=\"315\" src=\"https://www.youtube.com/embed/vBhvFWRLiOs?start=58&end=75;rel=0&amp;controls=0&amp;showinfo=0\" frameborder=\"0\" allowfullscreen></iframe>"
      ],
      "text/plain": [
       "<IPython.core.display.HTML object>"
      ]
     },
     "execution_count": 62,
     "metadata": {},
     "output_type": "execute_result"
    }
   ],
   "source": [
    "warnings.simplefilter('ignore')\n",
    "# Youtube\n",
    "print(\"https://www.youtube.com/embed/vBhvFWRLiOs?start=58&end=75\")\n",
    "HTML('<iframe width=\"400\" height=\"315\" src=\"https://www.youtube.com/embed/vBhvFWRLiOs?start=58&end=75;rel=0&amp;controls=0&amp;showinfo=0\" frameborder=\"0\" allowfullscreen></iframe>')"
   ]
  },
  {
   "cell_type": "code",
   "execution_count": null,
   "metadata": {},
   "outputs": [],
   "source": [
    "ims12 = []\n",
    "#FrameCapture('C:\\\\Users\\\\Craig\\\\Documents\\\\videoclips\\\\economic\\\\16.mp4', \"e4\",ims12) \n",
    "print(\"Number of frames: \" + str(len(ims12)))"
   ]
  },
  {
   "cell_type": "code",
   "execution_count": null,
   "metadata": {},
   "outputs": [],
   "source": []
  }
 ],
 "metadata": {
  "kernelspec": {
   "display_name": "Python 3",
   "language": "python",
   "name": "python3"
  },
  "language_info": {
   "codemirror_mode": {
    "name": "ipython",
    "version": 3
   },
   "file_extension": ".py",
   "mimetype": "text/x-python",
   "name": "python",
   "nbconvert_exporter": "python",
   "pygments_lexer": "ipython3",
   "version": "3.7.1"
  }
 },
 "nbformat": 4,
 "nbformat_minor": 2
}
